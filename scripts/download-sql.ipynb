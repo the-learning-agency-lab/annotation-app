{
 "cells": [
  {
   "cell_type": "code",
   "execution_count": null,
   "metadata": {},
   "outputs": [
    {
     "data": {
      "text/plain": [
       "True"
      ]
     },
     "execution_count": 1,
     "metadata": {},
     "output_type": "execute_result"
    }
   ],
   "source": [
    "import os\n",
    "import json\n",
    "from collections import Counter\n",
    "\n",
    "import pandas as pd\n",
    "import sqlalchemy\n",
    "import dotenv\n",
    "\n",
    "dotenv.load_dotenv(\"../.env\")"
   ]
  },
  {
   "cell_type": "code",
   "execution_count": 2,
   "metadata": {},
   "outputs": [],
   "source": [
    "engine = sqlalchemy.create_engine(os.getenv(\"PGCONN\"))"
   ]
  },
  {
   "cell_type": "code",
   "execution_count": 3,
   "metadata": {},
   "outputs": [
    {
     "data": {
      "text/html": [
       "<div>\n",
       "<style scoped>\n",
       "    .dataframe tbody tr th:only-of-type {\n",
       "        vertical-align: middle;\n",
       "    }\n",
       "\n",
       "    .dataframe tbody tr th {\n",
       "        vertical-align: top;\n",
       "    }\n",
       "\n",
       "    .dataframe thead th {\n",
       "        text-align: right;\n",
       "    }\n",
       "</style>\n",
       "<table border=\"1\" class=\"dataframe\">\n",
       "  <thead>\n",
       "    <tr style=\"text-align: right;\">\n",
       "      <th></th>\n",
       "      <th>table_name</th>\n",
       "    </tr>\n",
       "  </thead>\n",
       "  <tbody>\n",
       "    <tr>\n",
       "      <th>0</th>\n",
       "      <td>dataset</td>\n",
       "    </tr>\n",
       "    <tr>\n",
       "      <th>1</th>\n",
       "      <td>example</td>\n",
       "    </tr>\n",
       "    <tr>\n",
       "      <th>2</th>\n",
       "      <td>structured_link</td>\n",
       "    </tr>\n",
       "    <tr>\n",
       "      <th>3</th>\n",
       "      <td>link</td>\n",
       "    </tr>\n",
       "    <tr>\n",
       "      <th>4</th>\n",
       "      <td>structured_input</td>\n",
       "    </tr>\n",
       "    <tr>\n",
       "      <th>5</th>\n",
       "      <td>structured_example</td>\n",
       "    </tr>\n",
       "  </tbody>\n",
       "</table>\n",
       "</div>"
      ],
      "text/plain": [
       "           table_name\n",
       "0             dataset\n",
       "1             example\n",
       "2     structured_link\n",
       "3                link\n",
       "4    structured_input\n",
       "5  structured_example"
      ]
     },
     "execution_count": 3,
     "metadata": {},
     "output_type": "execute_result"
    }
   ],
   "source": [
    "pd.read_sql_query(\"SELECT table_name FROM information_schema.tables WHERE table_schema = 'public'\", con=engine)"
   ]
  },
  {
   "cell_type": "code",
   "execution_count": 4,
   "metadata": {},
   "outputs": [
    {
     "data": {
      "text/html": [
       "<div>\n",
       "<style scoped>\n",
       "    .dataframe tbody tr th:only-of-type {\n",
       "        vertical-align: middle;\n",
       "    }\n",
       "\n",
       "    .dataframe tbody tr th {\n",
       "        vertical-align: top;\n",
       "    }\n",
       "\n",
       "    .dataframe thead th {\n",
       "        text-align: right;\n",
       "    }\n",
       "</style>\n",
       "<table border=\"1\" class=\"dataframe\">\n",
       "  <thead>\n",
       "    <tr style=\"text-align: right;\">\n",
       "      <th></th>\n",
       "      <th>id</th>\n",
       "      <th>name</th>\n",
       "      <th>created</th>\n",
       "      <th>meta</th>\n",
       "      <th>session</th>\n",
       "    </tr>\n",
       "  </thead>\n",
       "  <tbody>\n",
       "    <tr>\n",
       "      <th>9</th>\n",
       "      <td>10</td>\n",
       "      <td>ume-final</td>\n",
       "      <td>1740430466</td>\n",
       "      <td>b'{}'</td>\n",
       "      <td>False</td>\n",
       "    </tr>\n",
       "  </tbody>\n",
       "</table>\n",
       "</div>"
      ],
      "text/plain": [
       "   id       name     created   meta  session\n",
       "9  10  ume-final  1740430466  b'{}'    False"
      ]
     },
     "execution_count": 4,
     "metadata": {},
     "output_type": "execute_result"
    }
   ],
   "source": [
    "dataset = pd.read_sql_table(\"dataset\", con=engine)\n",
    "\n",
    "# Get the dataset ID for the dataset we want to query\n",
    "dataset.query(\"name == 'ume-final'\")"
   ]
  },
  {
   "cell_type": "code",
   "execution_count": 5,
   "metadata": {},
   "outputs": [
    {
     "data": {
      "text/html": [
       "<div>\n",
       "<style scoped>\n",
       "    .dataframe tbody tr th:only-of-type {\n",
       "        vertical-align: middle;\n",
       "    }\n",
       "\n",
       "    .dataframe tbody tr th {\n",
       "        vertical-align: top;\n",
       "    }\n",
       "\n",
       "    .dataframe thead th {\n",
       "        text-align: right;\n",
       "    }\n",
       "</style>\n",
       "<table border=\"1\" class=\"dataframe\">\n",
       "  <thead>\n",
       "    <tr style=\"text-align: right;\">\n",
       "      <th></th>\n",
       "      <th>id</th>\n",
       "      <th>input_hash</th>\n",
       "      <th>content</th>\n",
       "      <th>task_hash</th>\n",
       "    </tr>\n",
       "  </thead>\n",
       "  <tbody>\n",
       "    <tr>\n",
       "      <th>0</th>\n",
       "      <td>1</td>\n",
       "      <td>869596046</td>\n",
       "      <td>b'{\"idx\":487,\"question\":\"A biologist models th...</td>\n",
       "      <td>-482254096</td>\n",
       "    </tr>\n",
       "    <tr>\n",
       "      <th>1</th>\n",
       "      <td>2</td>\n",
       "      <td>1965004864</td>\n",
       "      <td>b'{\"idx\":591,\"question\":\"A savings account sta...</td>\n",
       "      <td>-2043517965</td>\n",
       "    </tr>\n",
       "    <tr>\n",
       "      <th>2</th>\n",
       "      <td>3</td>\n",
       "      <td>-759792225</td>\n",
       "      <td>b'{\"idx\":487,\"question\":\"A biologist models th...</td>\n",
       "      <td>1689464308</td>\n",
       "    </tr>\n",
       "    <tr>\n",
       "      <th>3</th>\n",
       "      <td>4</td>\n",
       "      <td>-14046686</td>\n",
       "      <td>b'{\"idx\":508,\"question\":\"A school club with 80...</td>\n",
       "      <td>128649510</td>\n",
       "    </tr>\n",
       "    <tr>\n",
       "      <th>4</th>\n",
       "      <td>5</td>\n",
       "      <td>70955040</td>\n",
       "      <td>b'{\"idx\":560,\"question\":\"Company A offers a st...</td>\n",
       "      <td>-21803035</td>\n",
       "    </tr>\n",
       "    <tr>\n",
       "      <th>...</th>\n",
       "      <td>...</td>\n",
       "      <td>...</td>\n",
       "      <td>...</td>\n",
       "      <td>...</td>\n",
       "    </tr>\n",
       "    <tr>\n",
       "      <th>173</th>\n",
       "      <td>174</td>\n",
       "      <td>1162920760</td>\n",
       "      <td>b'{\"idx\":473,\"question\":\"Two students measured...</td>\n",
       "      <td>2061925689</td>\n",
       "    </tr>\n",
       "    <tr>\n",
       "      <th>174</th>\n",
       "      <td>175</td>\n",
       "      <td>-1446130947</td>\n",
       "      <td>b'{\"idx\":650,\"question\":\"A cup of coffee cools...</td>\n",
       "      <td>1816545896</td>\n",
       "    </tr>\n",
       "    <tr>\n",
       "      <th>175</th>\n",
       "      <td>176</td>\n",
       "      <td>-2103237491</td>\n",
       "      <td>b'{\"idx\":550,\"question\":\"A team wants to test ...</td>\n",
       "      <td>172732913</td>\n",
       "    </tr>\n",
       "    <tr>\n",
       "      <th>176</th>\n",
       "      <td>177</td>\n",
       "      <td>945134491</td>\n",
       "      <td>b'{\"idx\":610,\"question\":\"A basketball player s...</td>\n",
       "      <td>593500113</td>\n",
       "    </tr>\n",
       "    <tr>\n",
       "      <th>177</th>\n",
       "      <td>178</td>\n",
       "      <td>1667110261</td>\n",
       "      <td>b'{\"idx\":652,\"question\":\"A line passes through...</td>\n",
       "      <td>1606957060</td>\n",
       "    </tr>\n",
       "  </tbody>\n",
       "</table>\n",
       "<p>178 rows × 4 columns</p>\n",
       "</div>"
      ],
      "text/plain": [
       "      id  input_hash                                            content  \\\n",
       "0      1   869596046  b'{\"idx\":487,\"question\":\"A biologist models th...   \n",
       "1      2  1965004864  b'{\"idx\":591,\"question\":\"A savings account sta...   \n",
       "2      3  -759792225  b'{\"idx\":487,\"question\":\"A biologist models th...   \n",
       "3      4   -14046686  b'{\"idx\":508,\"question\":\"A school club with 80...   \n",
       "4      5    70955040  b'{\"idx\":560,\"question\":\"Company A offers a st...   \n",
       "..   ...         ...                                                ...   \n",
       "173  174  1162920760  b'{\"idx\":473,\"question\":\"Two students measured...   \n",
       "174  175 -1446130947  b'{\"idx\":650,\"question\":\"A cup of coffee cools...   \n",
       "175  176 -2103237491  b'{\"idx\":550,\"question\":\"A team wants to test ...   \n",
       "176  177   945134491  b'{\"idx\":610,\"question\":\"A basketball player s...   \n",
       "177  178  1667110261  b'{\"idx\":652,\"question\":\"A line passes through...   \n",
       "\n",
       "      task_hash  \n",
       "0    -482254096  \n",
       "1   -2043517965  \n",
       "2    1689464308  \n",
       "3     128649510  \n",
       "4     -21803035  \n",
       "..          ...  \n",
       "173  2061925689  \n",
       "174  1816545896  \n",
       "175   172732913  \n",
       "176   593500113  \n",
       "177  1606957060  \n",
       "\n",
       "[178 rows x 4 columns]"
      ]
     },
     "execution_count": 5,
     "metadata": {},
     "output_type": "execute_result"
    }
   ],
   "source": [
    "examples = pd.read_sql_table(\"example\", con=engine)\n",
    "examples"
   ]
  },
  {
   "cell_type": "code",
   "execution_count": null,
   "metadata": {},
   "outputs": [
    {
     "data": {
      "text/plain": [
       "Counter({'ume-final-catherine': 101,\n",
       "         'ume-final-stephanie': 41,\n",
       "         'ume-final-jennifer': 35})"
      ]
     },
     "execution_count": 10,
     "metadata": {},
     "output_type": "execute_result"
    }
   ],
   "source": [
    "annotator_ids = []\n",
    "for i, row in examples.iterrows():\n",
    "    content = json.loads(row[\"content\"])\n",
    "    annotator_id = content[\"_annotator_id\"]\n",
    "    if annotator_id.startswith(\"ume-final\"):\n",
    "        annotator_ids.append(annotator_id)\n",
    "\n",
    "Counter(annotator_ids)"
   ]
  }
 ],
 "metadata": {
  "kernelspec": {
   "display_name": "Python 3",
   "language": "python",
   "name": "python3"
  },
  "language_info": {
   "codemirror_mode": {
    "name": "ipython",
    "version": 3
   },
   "file_extension": ".py",
   "mimetype": "text/x-python",
   "name": "python",
   "nbconvert_exporter": "python",
   "pygments_lexer": "ipython3",
   "version": "3.12.7"
  }
 },
 "nbformat": 4,
 "nbformat_minor": 2
}
